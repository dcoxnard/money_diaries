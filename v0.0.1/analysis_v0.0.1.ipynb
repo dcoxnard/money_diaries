{
 "cells": [
  {
   "cell_type": "code",
   "execution_count": 146,
   "metadata": {
    "ExecuteTime": {
     "end_time": "2018-06-16T17:00:24.671328Z",
     "start_time": "2018-06-16T17:00:24.652885Z"
    },
    "collapsed": true
   },
   "outputs": [],
   "source": [
    "import os\n",
    "import glob\n",
    "import re\n",
    "import pandas as pd\n",
    "import matplotlib.pyplot as plt\n",
    "%matplotlib inline"
   ]
  },
  {
   "cell_type": "markdown",
   "metadata": {},
   "source": [
    "## Read Data"
   ]
  },
  {
   "cell_type": "code",
   "execution_count": 147,
   "metadata": {
    "ExecuteTime": {
     "end_time": "2018-06-16T17:00:24.956001Z",
     "start_time": "2018-06-16T17:00:24.946344Z"
    },
    "collapsed": true
   },
   "outputs": [],
   "source": [
    "datafiles = glob.glob(os.path.join(os.getcwd(), 'data_reshape', '*.csv'))\n",
    "daily_expenses_fp, _, monthly_expenses_fp, diaraists_fp = datafiles"
   ]
  },
  {
   "cell_type": "code",
   "execution_count": 148,
   "metadata": {
    "ExecuteTime": {
     "end_time": "2018-06-16T17:00:25.061526Z",
     "start_time": "2018-06-16T17:00:25.034025Z"
    },
    "collapsed": true
   },
   "outputs": [],
   "source": [
    "daily = pd.read_csv(daily_expenses_fp)\n",
    "monthly = pd.read_csv(monthly_expenses_fp)\n",
    "diarists = pd.read_csv(diaraists_fp)"
   ]
  },
  {
   "cell_type": "markdown",
   "metadata": {},
   "source": [
    "_Some improvements that need to be made to the data reashape (reforactor out of this notebook):_\n",
    "- in monthy_expenses, turn dollar string value into float\n",
    "- rename the 'index' column in diaraists to 'diary_index' to ensure consistency\n",
    "- put descriptions in lowercase"
   ]
  },
  {
   "cell_type": "code",
   "execution_count": 149,
   "metadata": {
    "ExecuteTime": {
     "end_time": "2018-06-16T17:00:25.229005Z",
     "start_time": "2018-06-16T17:00:25.221308Z"
    },
    "collapsed": true
   },
   "outputs": [],
   "source": [
    "diarists = diarists.rename(columns={'index': 'diary_index'})"
   ]
  },
  {
   "cell_type": "code",
   "execution_count": 150,
   "metadata": {
    "ExecuteTime": {
     "end_time": "2018-06-16T17:00:25.331354Z",
     "start_time": "2018-06-16T17:00:25.318015Z"
    }
   },
   "outputs": [
    {
     "data": {
      "text/html": [
       "<div>\n",
       "<style>\n",
       "    .dataframe thead tr:only-child th {\n",
       "        text-align: right;\n",
       "    }\n",
       "\n",
       "    .dataframe thead th {\n",
       "        text-align: left;\n",
       "    }\n",
       "\n",
       "    .dataframe tbody tr th {\n",
       "        vertical-align: top;\n",
       "    }\n",
       "</style>\n",
       "<table border=\"1\" class=\"dataframe\">\n",
       "  <thead>\n",
       "    <tr style=\"text-align: right;\">\n",
       "      <th></th>\n",
       "      <th>day_total</th>\n",
       "      <th>day_nm</th>\n",
       "      <th>diary_index</th>\n",
       "    </tr>\n",
       "  </thead>\n",
       "  <tbody>\n",
       "    <tr>\n",
       "      <th>0</th>\n",
       "      <td>177.72</td>\n",
       "      <td>1</td>\n",
       "      <td>0</td>\n",
       "    </tr>\n",
       "    <tr>\n",
       "      <th>1</th>\n",
       "      <td>85.54</td>\n",
       "      <td>2</td>\n",
       "      <td>0</td>\n",
       "    </tr>\n",
       "    <tr>\n",
       "      <th>2</th>\n",
       "      <td>140.21</td>\n",
       "      <td>3</td>\n",
       "      <td>0</td>\n",
       "    </tr>\n",
       "    <tr>\n",
       "      <th>3</th>\n",
       "      <td>4.00</td>\n",
       "      <td>4</td>\n",
       "      <td>0</td>\n",
       "    </tr>\n",
       "    <tr>\n",
       "      <th>4</th>\n",
       "      <td>0.00</td>\n",
       "      <td>5</td>\n",
       "      <td>0</td>\n",
       "    </tr>\n",
       "  </tbody>\n",
       "</table>\n",
       "</div>"
      ],
      "text/plain": [
       "   day_total  day_nm  diary_index\n",
       "0     177.72       1            0\n",
       "1      85.54       2            0\n",
       "2     140.21       3            0\n",
       "3       4.00       4            0\n",
       "4       0.00       5            0"
      ]
     },
     "execution_count": 150,
     "metadata": {},
     "output_type": "execute_result"
    }
   ],
   "source": [
    "daily.head()"
   ]
  },
  {
   "cell_type": "code",
   "execution_count": 151,
   "metadata": {
    "ExecuteTime": {
     "end_time": "2018-06-16T17:00:25.440313Z",
     "start_time": "2018-06-16T17:00:25.424091Z"
    }
   },
   "outputs": [
    {
     "data": {
      "text/html": [
       "<div>\n",
       "<style>\n",
       "    .dataframe thead tr:only-child th {\n",
       "        text-align: right;\n",
       "    }\n",
       "\n",
       "    .dataframe thead th {\n",
       "        text-align: left;\n",
       "    }\n",
       "\n",
       "    .dataframe tbody tr th {\n",
       "        vertical-align: top;\n",
       "    }\n",
       "</style>\n",
       "<table border=\"1\" class=\"dataframe\">\n",
       "  <thead>\n",
       "    <tr style=\"text-align: right;\">\n",
       "      <th></th>\n",
       "      <th>mn_exp_amt</th>\n",
       "      <th>mn_exp_rawtext</th>\n",
       "      <th>diary_index</th>\n",
       "    </tr>\n",
       "  </thead>\n",
       "  <tbody>\n",
       "    <tr>\n",
       "      <th>0</th>\n",
       "      <td>1590.0</td>\n",
       "      <td>Mortgage</td>\n",
       "      <td>0</td>\n",
       "    </tr>\n",
       "    <tr>\n",
       "      <th>1</th>\n",
       "      <td>0.0</td>\n",
       "      <td>, including property taxes and insurance, for ...</td>\n",
       "      <td>0</td>\n",
       "    </tr>\n",
       "    <tr>\n",
       "      <th>2</th>\n",
       "      <td>233000.0</td>\n",
       "      <td>(We paid off</td>\n",
       "      <td>0</td>\n",
       "    </tr>\n",
       "    <tr>\n",
       "      <th>3</th>\n",
       "      <td>1700.0</td>\n",
       "      <td>Childcare</td>\n",
       "      <td>0</td>\n",
       "    </tr>\n",
       "    <tr>\n",
       "      <th>4</th>\n",
       "      <td>580.0</td>\n",
       "      <td>Utilities</td>\n",
       "      <td>0</td>\n",
       "    </tr>\n",
       "  </tbody>\n",
       "</table>\n",
       "</div>"
      ],
      "text/plain": [
       "   mn_exp_amt                                     mn_exp_rawtext  diary_index\n",
       "0      1590.0                                           Mortgage            0\n",
       "1         0.0  , including property taxes and insurance, for ...            0\n",
       "2    233000.0                                       (We paid off            0\n",
       "3      1700.0                                          Childcare            0\n",
       "4       580.0                                          Utilities            0"
      ]
     },
     "execution_count": 151,
     "metadata": {},
     "output_type": "execute_result"
    }
   ],
   "source": [
    "monthly.head()"
   ]
  },
  {
   "cell_type": "code",
   "execution_count": 152,
   "metadata": {
    "ExecuteTime": {
     "end_time": "2018-06-16T17:00:25.541098Z",
     "start_time": "2018-06-16T17:00:25.522998Z"
    }
   },
   "outputs": [
    {
     "data": {
      "text/html": [
       "<div>\n",
       "<style>\n",
       "    .dataframe thead tr:only-child th {\n",
       "        text-align: right;\n",
       "    }\n",
       "\n",
       "    .dataframe thead th {\n",
       "        text-align: left;\n",
       "    }\n",
       "\n",
       "    .dataframe tbody tr th {\n",
       "        vertical-align: top;\n",
       "    }\n",
       "</style>\n",
       "<table border=\"1\" class=\"dataframe\">\n",
       "  <thead>\n",
       "    <tr style=\"text-align: right;\">\n",
       "      <th></th>\n",
       "      <th>diary_index</th>\n",
       "      <th>salary</th>\n",
       "      <th>occupation</th>\n",
       "      <th>industry</th>\n",
       "      <th>location</th>\n",
       "      <th>url</th>\n",
       "    </tr>\n",
       "  </thead>\n",
       "  <tbody>\n",
       "    <tr>\n",
       "      <th>0</th>\n",
       "      <td>0</td>\n",
       "      <td>165000</td>\n",
       "      <td>Part-Time Attorney</td>\n",
       "      <td>Law</td>\n",
       "      <td>Central Valley, CA</td>\n",
       "      <td>https://www.refinery29.com/money-diary-central...</td>\n",
       "    </tr>\n",
       "    <tr>\n",
       "      <th>1</th>\n",
       "      <td>1</td>\n",
       "      <td>39500</td>\n",
       "      <td>Key Account Specialist</td>\n",
       "      <td>Apparel Manufacturing &amp; Marketing</td>\n",
       "      <td>Vancouver, BC</td>\n",
       "      <td>https://www.refinery29.com/money-diary-vancouv...</td>\n",
       "    </tr>\n",
       "    <tr>\n",
       "      <th>2</th>\n",
       "      <td>2</td>\n",
       "      <td>47000</td>\n",
       "      <td>Communication Specialist</td>\n",
       "      <td>Higher Education</td>\n",
       "      <td>Boston, MA</td>\n",
       "      <td>https://www.refinery29.com/money-diary-boston-...</td>\n",
       "    </tr>\n",
       "    <tr>\n",
       "      <th>3</th>\n",
       "      <td>3</td>\n",
       "      <td>70000</td>\n",
       "      <td>Programmer</td>\n",
       "      <td>Tech</td>\n",
       "      <td>New York City</td>\n",
       "      <td>https://www.refinery29.com/money-diary-new-yor...</td>\n",
       "    </tr>\n",
       "    <tr>\n",
       "      <th>4</th>\n",
       "      <td>4</td>\n",
       "      <td>32780</td>\n",
       "      <td>Assistant Language Teacher</td>\n",
       "      <td>Education</td>\n",
       "      <td>Niigata, Japan</td>\n",
       "      <td>https://www.refinery29.com/money-diary-niigata...</td>\n",
       "    </tr>\n",
       "  </tbody>\n",
       "</table>\n",
       "</div>"
      ],
      "text/plain": [
       "   diary_index  salary                  occupation  \\\n",
       "0            0  165000          Part-Time Attorney   \n",
       "1            1   39500      Key Account Specialist   \n",
       "2            2   47000    Communication Specialist   \n",
       "3            3   70000                  Programmer   \n",
       "4            4   32780  Assistant Language Teacher   \n",
       "\n",
       "                            industry            location  \\\n",
       "0                                Law  Central Valley, CA   \n",
       "1  Apparel Manufacturing & Marketing       Vancouver, BC   \n",
       "2                   Higher Education          Boston, MA   \n",
       "3                               Tech       New York City   \n",
       "4                          Education      Niigata, Japan   \n",
       "\n",
       "                                                 url  \n",
       "0  https://www.refinery29.com/money-diary-central...  \n",
       "1  https://www.refinery29.com/money-diary-vancouv...  \n",
       "2  https://www.refinery29.com/money-diary-boston-...  \n",
       "3  https://www.refinery29.com/money-diary-new-yor...  \n",
       "4  https://www.refinery29.com/money-diary-niigata...  "
      ]
     },
     "execution_count": 152,
     "metadata": {},
     "output_type": "execute_result"
    }
   ],
   "source": [
    "diarists.head()"
   ]
  },
  {
   "cell_type": "markdown",
   "metadata": {
    "ExecuteTime": {
     "end_time": "2018-06-16T17:00:55.713480Z",
     "start_time": "2018-06-16T17:00:55.699204Z"
    }
   },
   "source": [
    "## Scratch"
   ]
  },
  {
   "cell_type": "code",
   "execution_count": null,
   "metadata": {
    "collapsed": true
   },
   "outputs": [],
   "source": []
  },
  {
   "cell_type": "code",
   "execution_count": null,
   "metadata": {
    "collapsed": true
   },
   "outputs": [],
   "source": []
  },
  {
   "cell_type": "code",
   "execution_count": null,
   "metadata": {
    "collapsed": true
   },
   "outputs": [],
   "source": []
  },
  {
   "cell_type": "code",
   "execution_count": null,
   "metadata": {
    "collapsed": true
   },
   "outputs": [],
   "source": []
  },
  {
   "cell_type": "code",
   "execution_count": null,
   "metadata": {
    "collapsed": true
   },
   "outputs": [],
   "source": []
  },
  {
   "cell_type": "code",
   "execution_count": null,
   "metadata": {
    "collapsed": true
   },
   "outputs": [],
   "source": []
  },
  {
   "cell_type": "code",
   "execution_count": 190,
   "metadata": {
    "ExecuteTime": {
     "end_time": "2018-06-16T18:27:22.162723Z",
     "start_time": "2018-06-16T18:27:22.152713Z"
    }
   },
   "outputs": [
    {
     "name": "stdout",
     "output_type": "stream",
     "text": [
      "https://www.refinery29.com/money-diary-brooklyn-ny-marketing-and-communications-associate-salary\n"
     ]
    }
   ],
   "source": [
    "selector = 44\n",
    "\n",
    "print(diarists.loc[selector, 'url'])"
   ]
  },
  {
   "cell_type": "code",
   "execution_count": null,
   "metadata": {
    "collapsed": true
   },
   "outputs": [],
   "source": []
  }
 ],
 "metadata": {
  "kernelspec": {
   "display_name": "Python 3",
   "language": "python",
   "name": "python3"
  },
  "language_info": {
   "codemirror_mode": {
    "name": "ipython",
    "version": 3
   },
   "file_extension": ".py",
   "mimetype": "text/x-python",
   "name": "python",
   "nbconvert_exporter": "python",
   "pygments_lexer": "ipython3",
   "version": "3.6.1"
  },
  "toc": {
   "nav_menu": {},
   "number_sections": true,
   "sideBar": true,
   "skip_h1_title": false,
   "toc_cell": false,
   "toc_position": {},
   "toc_section_display": "block",
   "toc_window_display": false
  }
 },
 "nbformat": 4,
 "nbformat_minor": 2
}
