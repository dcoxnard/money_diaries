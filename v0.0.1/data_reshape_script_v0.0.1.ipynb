{
 "cells": [
  {
   "cell_type": "markdown",
   "metadata": {},
   "source": [
    "# Money Diaries Data Reshape"
   ]
  },
  {
   "cell_type": "code",
   "execution_count": 1,
   "metadata": {
    "ExecuteTime": {
     "end_time": "2018-06-16T16:54:52.609281Z",
     "start_time": "2018-06-16T16:54:51.770353Z"
    },
    "collapsed": true
   },
   "outputs": [],
   "source": [
    "import os\n",
    "import re\n",
    "import numpy as np\n",
    "from matplotlib import pyplot as plt\n",
    "import pandas as pd\n",
    "%matplotlib inline"
   ]
  },
  {
   "cell_type": "code",
   "execution_count": 2,
   "metadata": {
    "ExecuteTime": {
     "end_time": "2018-06-16T16:54:52.618223Z",
     "start_time": "2018-06-16T16:54:52.611926Z"
    },
    "collapsed": true
   },
   "outputs": [],
   "source": [
    "pd.set_option('max_colwidth', 100)\n",
    "pd.set_option('max_rows', 250)"
   ]
  },
  {
   "cell_type": "markdown",
   "metadata": {},
   "source": [
    "## Build Wide `DataFrame`"
   ]
  },
  {
   "cell_type": "code",
   "execution_count": 3,
   "metadata": {
    "ExecuteTime": {
     "end_time": "2018-06-16T16:54:52.629615Z",
     "start_time": "2018-06-16T16:54:52.620932Z"
    },
    "collapsed": true
   },
   "outputs": [],
   "source": [
    "def parse_total(s):\n",
    "    total = re.findall(r\"\\$\\d+(?:\\.\\d+)?\", s)[-1]\n",
    "    return float(total.strip('$'))"
   ]
  },
  {
   "cell_type": "code",
   "execution_count": 4,
   "metadata": {
    "ExecuteTime": {
     "end_time": "2018-06-16T16:54:52.641416Z",
     "start_time": "2018-06-16T16:54:52.632648Z"
    },
    "collapsed": true
   },
   "outputs": [],
   "source": [
    "def parse_salary(s):\n",
    "    try:\n",
    "        salary = re.findall(r\"\\$\\d+(?:\\,\\d+)?\", s)[0]\n",
    "        salary = ''.join(salary.split(','))\n",
    "        return int(salary.strip('$'))\n",
    "    except IndexError:\n",
    "        return 0"
   ]
  },
  {
   "cell_type": "code",
   "execution_count": 5,
   "metadata": {
    "ExecuteTime": {
     "end_time": "2018-06-16T16:54:52.659525Z",
     "start_time": "2018-06-16T16:54:52.644477Z"
    },
    "collapsed": true
   },
   "outputs": [],
   "source": [
    "def add_totals_cols(df):\n",
    "    for day in df.columns[:-2]:\n",
    "        new_col = day + '_total'\n",
    "        df[new_col] = df[day].apply(parse_total)\n",
    "    \n",
    "    totals = [c for c in df.columns if '_total' in c]\n",
    "    df['weekly_total'] = df[totals].sum(axis=1)\n",
    "    \n",
    "    df['salary'] = df['title'].apply(parse_salary)\n",
    "    return df"
   ]
  },
  {
   "cell_type": "code",
   "execution_count": 6,
   "metadata": {
    "ExecuteTime": {
     "end_time": "2018-06-16T16:54:52.672413Z",
     "start_time": "2018-06-16T16:54:52.663251Z"
    },
    "collapsed": true
   },
   "outputs": [],
   "source": [
    "def parse_location(s):\n",
    "    trim_right = s.split(\"In \")[-1]\n",
    "    trim_left = trim_right.split('On')[0]\n",
    "    location = trim_left.strip().strip(',')\n",
    "    return location"
   ]
  },
  {
   "cell_type": "code",
   "execution_count": 7,
   "metadata": {
    "ExecuteTime": {
     "end_time": "2018-06-16T16:54:52.683191Z",
     "start_time": "2018-06-16T16:54:52.676234Z"
    },
    "collapsed": true
   },
   "outputs": [],
   "source": [
    "def find_between(string, start_marker, end_marker, default=np.nan):\n",
    "    try:\n",
    "        start = string.index(start_marker) + len(start_marker)\n",
    "        end = string.index(end_marker, start)\n",
    "        return string[start:end].strip()\n",
    "    except:\n",
    "        return default"
   ]
  },
  {
   "cell_type": "code",
   "execution_count": 8,
   "metadata": {
    "ExecuteTime": {
     "end_time": "2018-06-16T16:54:52.703944Z",
     "start_time": "2018-06-16T16:54:52.685700Z"
    },
    "collapsed": true
   },
   "outputs": [],
   "source": [
    "def add_occupation(df):\n",
    "    _occ = df.intro.apply(lambda x: find_between(x, 'Occupation:  ', 'Industry:'))\n",
    "    df['occupation'] = _occ.apply(lambda x: find_between(x, 'Occupation:  ', '.', default=x))\n",
    "    return df"
   ]
  },
  {
   "cell_type": "code",
   "execution_count": 9,
   "metadata": {
    "ExecuteTime": {
     "end_time": "2018-06-16T16:54:52.714705Z",
     "start_time": "2018-06-16T16:54:52.708030Z"
    },
    "collapsed": true
   },
   "outputs": [],
   "source": [
    "def add_industry(df):\n",
    "    df['industry'] = df.intro.apply(lambda x: find_between(x, 'Industry:  ', 'Age:'))\n",
    "    return df"
   ]
  },
  {
   "cell_type": "code",
   "execution_count": 10,
   "metadata": {
    "ExecuteTime": {
     "end_time": "2018-06-16T16:54:52.726139Z",
     "start_time": "2018-06-16T16:54:52.719051Z"
    },
    "collapsed": true
   },
   "outputs": [],
   "source": [
    "def add_location(df):\n",
    "    df['location'] = df.title.apply(lambda x: parse_location(x))\n",
    "    return df"
   ]
  },
  {
   "cell_type": "code",
   "execution_count": 11,
   "metadata": {
    "ExecuteTime": {
     "end_time": "2018-06-16T16:54:52.883975Z",
     "start_time": "2018-06-16T16:54:52.729290Z"
    },
    "collapsed": true
   },
   "outputs": [],
   "source": [
    "filename = 'diaries.json'\n",
    "wide_df = pd.read_json(filename)\n",
    "wide_df = add_totals_cols(wide_df)\n",
    "wide_df = add_occupation(wide_df)\n",
    "wide_df = add_industry(wide_df)\n",
    "wide_df = add_location(wide_df)"
   ]
  },
  {
   "cell_type": "markdown",
   "metadata": {},
   "source": [
    "Wide `DataFrame` with columns representing day-text and some easy-to-parse attributes."
   ]
  },
  {
   "cell_type": "markdown",
   "metadata": {},
   "source": [
    "## Build skinny `DataFrame` of Monthly Expenses"
   ]
  },
  {
   "cell_type": "code",
   "execution_count": 12,
   "metadata": {
    "ExecuteTime": {
     "end_time": "2018-06-16T16:54:52.924197Z",
     "start_time": "2018-06-16T16:54:52.887254Z"
    },
    "collapsed": true
   },
   "outputs": [],
   "source": [
    "def row_to_expenses(intro_text):\n",
    "    '''\n",
    "    Return a small DataFrame of the monthly expenses listed for one diary.\n",
    "    '''\n",
    "    monthly_expense_text = intro_text.split('Monthly Expenses')[-1]\n",
    "    dollar_amounts = re.findall(r\"\\$\\d+,?\\d*(?:\\.\\d+)?\", monthly_expense_text)\n",
    "    \n",
    "    def get_indexes_of_dollar_amounts(text, dollar_amounts):\n",
    "        indexes = []\n",
    "        tracker = 0\n",
    "        for amount in dollar_amounts:\n",
    "            new_start = text.index(amount, tracker)\n",
    "            new_end = text.index(amount, tracker) + len(amount)\n",
    "            indexes.append((new_start, new_end))\n",
    "            tracker = new_end\n",
    "            \n",
    "        return indexes\n",
    "    \n",
    "    indexes = get_indexes_of_dollar_amounts(monthly_expense_text, dollar_amounts)\n",
    "    \n",
    "    # Loop through indexes and get expenses associated with amounts.\n",
    "    monthly_expenses = []\n",
    "    prev_x = 0\n",
    "    prev_y = 0\n",
    "    for x, y in indexes:\n",
    "        amount = monthly_expense_text[x:y]\n",
    "        amount = float(re.sub(r'[$,]', '', amount))\n",
    "        expense = monthly_expense_text[prev_y:x].strip()\n",
    "        expense = expense.split(')')[-1].strip(':').strip()\n",
    "        monthly_expenses.append((amount, expense))\n",
    "        prev_x = x\n",
    "        prev_y = y\n",
    "    \n",
    "    df = pd.DataFrame(monthly_expenses)\n",
    "    return df"
   ]
  },
  {
   "cell_type": "code",
   "execution_count": 13,
   "metadata": {
    "ExecuteTime": {
     "end_time": "2018-06-16T16:54:53.318949Z",
     "start_time": "2018-06-16T16:54:52.927201Z"
    },
    "collapsed": true
   },
   "outputs": [],
   "source": [
    "dfs = []\n",
    "for row_ix in range(wide_df.shape[0]):\n",
    "    small_expenses_df = row_to_expenses(wide_df.loc[row_ix, 'intro'])\n",
    "    small_expenses_df['diary_index'] = row_ix\n",
    "    small_expenses_df.rename(columns={0:'mn_exp_amt', 1:'mn_exp_rawtext'}, inplace=True)\n",
    "    dfs.append(small_expenses_df)\n",
    "monthly_expense_df = pd.concat(dfs, axis=0)\n",
    "monthly_expense_df.reset_index(inplace=True, drop=True)"
   ]
  },
  {
   "cell_type": "markdown",
   "metadata": {},
   "source": [
    "Skinny `DataFrame` with each row representing a diarist's single monthly expense.\n",
    "\n",
    "Mostly works but there is still some cleanup needed.  Might need to point-and-shoot e.g. in Excel"
   ]
  },
  {
   "cell_type": "markdown",
   "metadata": {},
   "source": [
    "## Build skinny `DataFrame` of Daily Expenses"
   ]
  },
  {
   "cell_type": "code",
   "execution_count": 14,
   "metadata": {
    "ExecuteTime": {
     "end_time": "2018-06-16T16:54:53.333173Z",
     "start_time": "2018-06-16T16:54:53.321691Z"
    },
    "collapsed": true
   },
   "outputs": [],
   "source": [
    "day_cols = ['day_one_total', 'day_two_total',\n",
    "             'day_three_total', 'day_four_total',\n",
    "             'day_five_total', 'day_six_total',\n",
    "             'day_seven_total']\n",
    "\n",
    "day_totals = wide_df[day_cols]"
   ]
  },
  {
   "cell_type": "code",
   "execution_count": 15,
   "metadata": {
    "ExecuteTime": {
     "end_time": "2018-06-16T16:54:53.350481Z",
     "start_time": "2018-06-16T16:54:53.339537Z"
    },
    "collapsed": true
   },
   "outputs": [],
   "source": [
    "def row_to_day_totals(row_ix, day_totals):\n",
    "    amounts = day_totals.loc[row_ix,:].values\n",
    "    amounts = pd.DataFrame(amounts, columns=['day_total'])\n",
    "    amounts['day_nm'] = np.arange(1,8)\n",
    "    amounts['diary_index'] = row_ix\n",
    "    return amounts"
   ]
  },
  {
   "cell_type": "code",
   "execution_count": 16,
   "metadata": {
    "ExecuteTime": {
     "end_time": "2018-06-16T16:54:53.776378Z",
     "start_time": "2018-06-16T16:54:53.353931Z"
    },
    "collapsed": true
   },
   "outputs": [],
   "source": [
    "dfs = []\n",
    "for row_ix in range(wide_df.shape[0]):\n",
    "    df = row_to_day_totals(row_ix, day_totals)\n",
    "    dfs.append(df)\n",
    "daily_expense_df = pd.concat(dfs, axis=0)\n",
    "daily_expense_df.reset_index(inplace=True, drop=True)"
   ]
  },
  {
   "cell_type": "markdown",
   "metadata": {},
   "source": [
    "Skinny `DataFrame` with rows representing total daily expense in a diary-day."
   ]
  },
  {
   "cell_type": "markdown",
   "metadata": {},
   "source": [
    "## Build skinny `DataFrame` of diarists"
   ]
  },
  {
   "cell_type": "code",
   "execution_count": 17,
   "metadata": {
    "ExecuteTime": {
     "end_time": "2018-06-16T16:54:53.789969Z",
     "start_time": "2018-06-16T16:54:53.778574Z"
    },
    "collapsed": true,
    "scrolled": false
   },
   "outputs": [],
   "source": [
    "diarist_df = wide_df[['salary', 'occupation', 'industry', 'location', 'url']]\n",
    "diarist_df.reset_index(level=0, inplace=True)"
   ]
  },
  {
   "cell_type": "markdown",
   "metadata": {},
   "source": [
    "Skinny `DataFrame` with each row representing a diarist."
   ]
  },
  {
   "cell_type": "markdown",
   "metadata": {},
   "source": [
    "## Build skinny `DataFrame` of day text"
   ]
  },
  {
   "cell_type": "code",
   "execution_count": 18,
   "metadata": {
    "ExecuteTime": {
     "end_time": "2018-06-16T16:54:53.802905Z",
     "start_time": "2018-06-16T16:54:53.795063Z"
    },
    "collapsed": true
   },
   "outputs": [],
   "source": [
    "day_text_cols = ['day_one', 'day_two',\n",
    "             'day_three', 'day_four',\n",
    "             'day_five', 'day_six',\n",
    "             'day_seven']\n",
    "\n",
    "day_text = wide_df[day_text_cols]"
   ]
  },
  {
   "cell_type": "code",
   "execution_count": 19,
   "metadata": {
    "ExecuteTime": {
     "end_time": "2018-06-16T16:54:53.814745Z",
     "start_time": "2018-06-16T16:54:53.807099Z"
    },
    "collapsed": true
   },
   "outputs": [],
   "source": [
    "def row_to_day_text(row_ix, day_text):\n",
    "    txt = day_text.loc[0,:].values\n",
    "    txt = pd.DataFrame(txt, columns=['day_rawtext'])\n",
    "    txt['day_nm'] = np.arange(1,8)\n",
    "    txt['diary_index'] = row_ix\n",
    "    return txt"
   ]
  },
  {
   "cell_type": "code",
   "execution_count": 20,
   "metadata": {
    "ExecuteTime": {
     "end_time": "2018-06-16T16:54:54.233164Z",
     "start_time": "2018-06-16T16:54:53.817952Z"
    },
    "collapsed": true
   },
   "outputs": [],
   "source": [
    "dfs = []\n",
    "for row_ix in range(wide_df.shape[0]):\n",
    "    df = row_to_day_text(row_ix, day_text)\n",
    "    dfs.append(df)\n",
    "daily_text_df = pd.concat(dfs, axis=0)\n",
    "daily_text_df.reset_index(inplace=True, drop=True)"
   ]
  },
  {
   "cell_type": "markdown",
   "metadata": {},
   "source": [
    "Skinny `DataFrame` holding raw text data.  Each row is a diary-day."
   ]
  },
  {
   "cell_type": "markdown",
   "metadata": {},
   "source": [
    "# Save to disk for manual cleaning"
   ]
  },
  {
   "cell_type": "code",
   "execution_count": 21,
   "metadata": {
    "ExecuteTime": {
     "end_time": "2018-06-16T16:54:54.241312Z",
     "start_time": "2018-06-16T16:54:54.235778Z"
    },
    "collapsed": true
   },
   "outputs": [],
   "source": [
    "dataframes = {\n",
    "    'monthly_expenses.csv': monthly_expense_df,\n",
    "    'daily_expenses.csv': daily_expense_df,\n",
    "    'diarists.csv': diarist_df,\n",
    "    'daily_text.csv': daily_text_df,\n",
    "}"
   ]
  },
  {
   "cell_type": "code",
   "execution_count": 22,
   "metadata": {
    "ExecuteTime": {
     "end_time": "2018-06-16T16:54:54.444602Z",
     "start_time": "2018-06-16T16:54:54.243937Z"
    },
    "collapsed": true
   },
   "outputs": [],
   "source": [
    "directory = os.path.dirname(os.path.abspath(__name__))\n",
    "if not os.path.exists(os.path.join(directory, 'data_reshape')):\n",
    "    os.mkdir(os.path.join(directory, 'data_reshape'))\n",
    "for basename, df in dataframes.items():\n",
    "    savepath = os.path.join(directory, 'data_reshape', basename)\n",
    "#     df.to_csv(savepath, index=False)"
   ]
  },
  {
   "cell_type": "markdown",
   "metadata": {},
   "source": [
    "Uncomment the line above to enable the save."
   ]
  }
 ],
 "metadata": {
  "kernelspec": {
   "display_name": "Python 3",
   "language": "python",
   "name": "python3"
  },
  "language_info": {
   "codemirror_mode": {
    "name": "ipython",
    "version": 3
   },
   "file_extension": ".py",
   "mimetype": "text/x-python",
   "name": "python",
   "nbconvert_exporter": "python",
   "pygments_lexer": "ipython3",
   "version": "3.6.1"
  },
  "toc": {
   "nav_menu": {},
   "number_sections": true,
   "sideBar": true,
   "skip_h1_title": false,
   "toc_cell": false,
   "toc_position": {},
   "toc_section_display": "block",
   "toc_window_display": false
  }
 },
 "nbformat": 4,
 "nbformat_minor": 2
}
